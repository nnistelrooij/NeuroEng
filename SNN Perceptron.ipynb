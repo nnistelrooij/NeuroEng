{
 "cells": [
  {
   "cell_type": "code",
   "execution_count": 17,
   "id": "f80b496d",
   "metadata": {},
   "outputs": [],
   "source": [
    "import matplotlib.pyplot as plt\n",
    "import numpy as np\n",
    "rng = np.random.default_rng(2021)\n",
    "from sklearn.metrics import ConfusionMatrixDisplay\n",
    "import torch"
   ]
  },
  {
   "cell_type": "code",
   "execution_count": 18,
   "id": "98e7fff8",
   "metadata": {},
   "outputs": [],
   "source": [
    "dictionary = torch.load('data.pt')\n",
    "train_images = (dictionary['train_images'] >= 0.5).float()\n",
    "train_labels = 2 * dictionary['train_labels'] - 1\n",
    "test_images = (dictionary['test_images'] >= 0.5).float()\n",
    "test_labels = 2 * dictionary['test_labels'] - 1"
   ]
  },
  {
   "cell_type": "code",
   "execution_count": 19,
   "id": "552371cc",
   "metadata": {},
   "outputs": [],
   "source": [
    "def perceptron(X, Y, w, max_iter, eta=0.01):\n",
    "    X = Y * X\n",
    "    convergence = False\n",
    "    iter = 0\n",
    "\n",
    "    while not convergence and iter < max_iter:\n",
    "        incorrect = X @ w < 0\n",
    "        w += eta * X[incorrect].sum(axis=0)\n",
    "\n",
    "        convergence = not incorrect.any()\n",
    "        iter += 1\n",
    "\n",
    "    incorrect = X @ w < 0\n",
    "    return convergence, incorrect.sum() / X.shape[0], iter"
   ]
  },
  {
   "cell_type": "code",
   "execution_count": 20,
   "id": "fdd5aacb",
   "metadata": {},
   "outputs": [],
   "source": [
    "w = rng.normal(size=train_images.shape[1])"
   ]
  },
  {
   "cell_type": "code",
   "execution_count": 21,
   "id": "0dff7953",
   "metadata": {},
   "outputs": [
    {
     "name": "stdout",
     "output_type": "stream",
     "text": [
      "(converged, error, iterations): (False, 0.01250403355921265, 1000)\n"
     ]
    }
   ],
   "source": [
    "results = perceptron(train_images.numpy(), train_labels[:, None].numpy(), w, 1000)\n",
    "print('(converged, error, iterations):', results)"
   ]
  },
  {
   "cell_type": "code",
   "execution_count": 22,
   "id": "01f91b6b",
   "metadata": {},
   "outputs": [
    {
     "name": "stdout",
     "output_type": "stream",
     "text": [
      "Train classification error: 0.012504033744335175\n",
      "Test classification error: 0.02453385666012764\n"
     ]
    }
   ],
   "source": [
    "print('Train classification error:', ((train_labels[:, None] * train_images @ w) < 0).float().mean().item())\n",
    "print('Test classification error:', ((test_labels[:, None] * test_images @ w) < 0).float().mean().item())"
   ]
  },
  {
   "cell_type": "code",
   "execution_count": 23,
   "id": "a820686f",
   "metadata": {},
   "outputs": [
    {
     "data": {
      "text/plain": [
       "<sklearn.metrics._plot.confusion_matrix.ConfusionMatrixDisplay at 0x1f5ea00a550>"
      ]
     },
     "execution_count": 23,
     "metadata": {},
     "output_type": "execute_result"
    },
    {
     "data": {
      "image/png": "[encoded data removed]",
      "text/plain": [
       "<Figure size 432x288 with 2 Axes>"
      ]
     },
     "metadata": {
      "needs_background": "light"
     },
     "output_type": "display_data"
    }
   ],
   "source": [
    "ConfusionMatrixDisplay.from_predictions(\n",
    "    test_labels, test_images @ w >= 0, normalize='true',\n",
    ")"
   ]
  },
  {
   "cell_type": "code",
   "execution_count": 24,
   "id": "e68f19cf",
   "metadata": {},
   "outputs": [
    {
     "data": {
      "text/plain": [
       "<sklearn.metrics._plot.confusion_matrix.ConfusionMatrixDisplay at 0x1f5ecb8aa00>"
      ]
     },
     "execution_count": 24,
     "metadata": {},
     "output_type": "execute_result"
    },
    {
     "data": {
      "image/png": "[encoded data removed]",
      "text/plain": [
       "<Figure size 432x288 with 2 Axes>"
      ]
     },
     "metadata": {
      "needs_background": "light"
     },
     "output_type": "display_data"
    }
   ],
   "source": [
    "ConfusionMatrixDisplay.from_predictions(\n",
    "    train_labels, train_images @ w >= 0, normalize='true',\n",
    ")"
   ]
  },
  {
   "cell_type": "code",
   "execution_count": 36,
   "id": "23f24e4d",
   "metadata": {},
   "outputs": [
    {
     "data": {
      "text/plain": [
       "124"
      ]
     },
     "execution_count": 36,
     "metadata": {},
     "output_type": "execute_result"
    }
   ],
   "source": [
    "w.argmin()"
   ]
  },
  {
   "cell_type": "code",
   "execution_count": 35,
   "id": "df0fd78d",
   "metadata": {
    "scrolled": true
   },
   "outputs": [
    {
     "data": {
      "text/plain": [
       "\"9'd3,9'd14,9'd3,9'd1,9'd12,9'd271,9'd8,9'd9,9'd5,9'd1,9'd8,9'd15,9'd44,9'd24,9'd23,9'd12,9'd128,9'd25,9'd11,9'd265,9'd5,9'd128,9'd128,9'd261,9'd8,9'd6,9'd128,9'd17,9'd6,9'd9,9'd4,9'd1,9'd10,9'd128,9'd7,9'd3,9'd25,9'd9,9'd272,9'd266,9'd266,9'd55,9'd37,9'd18,9'd17,9'd21,9'd8,9'd25,9'd285,9'd313,9'd3,9'd265,9'd258,9'd267,9'd257,9'd1,9'd3,9'd128,9'd264,9'd3,9'd1,9'd10,9'd68,9'd28,9'd298,9'd258,9'd55,9'd316,9'd35,9'd310,9'd375,9'd407,9'd38,9'd300,9'd294,9'd331,9'd267,9'd382,9'd35,9'd71,9'd261,9'd6,9'd262,9'd257,9'd3,9'd260,9'd258,9'd128,9'd282,9'd270,9'd279,9'd277,9'd25,9'd68,9'd30,9'd34,9'd306,9'd39,9'd91,9'd372,9'd328,9'd339,9'd329,9'd81,9'd128,9'd303,9'd19,9'd326,9'd285,9'd268,9'd261,9'd3,9'd260,9'd128,9'd265,9'd269,9'd299,9'd294,9'd318,9'd267,9'd318,9'd299,9'd315,9'd16,9'd311,9'd294,9'd263,9'd257,9'd364,9'd302,9'd285,9'd389,9'd36,9'd31,9'd308,9'd295,9'd342,9'd4,9'd257,9'd9,9'd1,9'd4,9'd128,9'd11,9'd289,9'd365,9'd363,9'd365,9'd299,9'd343,9'd379,9'd359,9'd31,9'd285,9'd27,9'd42,9'd385,9'd446,9'd302,9'd351,9'd345,9'd289,9'd106,9'd395,9'd369,9'd277,9'd258,9'd128,9'd128,9'd260,9'd3,9'd259,9'd304,9'd409,9'd340,9'd415,9'd378,9'd449,9'd310,9'd364,9'd325,9'd326,9'd8,9'd108,9'd123,9'd260,9'd35,9'd351,9'd456,9'd321,9'd410,9'd407,9'd367,9'd319,9'd7,9'd257,9'd263,9'd261,9'd263,9'd52,9'd10,9'd472,9'd428,9'd397,9'd372,9'd404,9'd362,9'd283,9'd312,9'd306,9'd16,9'd88,9'd112,9'd53,9'd322,9'd284,9'd352,9'd381,9'd407,9'd449,9'd319,9'd265,9'd1,9'd259,9'd262,9'd261,9'd259,9'd120,9'd87,9'd357,9'd327,9'd294,9'd332,9'd333,9'd265,9'd283,9'd328,9'd282,9'd306,9'd302,9'd255,9'd78,9'd308,9'd26,9'd4,9'd352,9'd476,9'd370,9'd321,9'd261,9'd264,9'd7,9'd1,9'd265,9'd1,9'd73,9'd85,9'd312,9'd291,9'd57,9'd372,9'd96,9'd330,9'd395,9'd306,9'd53,9'd45,9'd306,9'd1,9'd329,9'd294,9'd296,9'd384,9'd401,9'd365,9'd391,9'd351,9'd263,9'd5,9'd6,9'd262,9'd257,9'd25,9'd79,9'd278,9'd273,9'd128,9'd265,9'd331,9'd267,9'd348,9'd147,9'd100,9'd121,9'd96,9'd298,9'd33,9'd312,9'd45,9'd296,9'd128,9'd21,9'd377,9'd343,9'd354,9'd263,9'd257,9'd6,9'd128,9'd128,9'd128,9'd324,9'd351,9'd324,9'd264,9'd333,9'd274,9'd271,9'd70,9'd135,9'd46,9'd51,9'd363,9'd340,9'd273,9'd278,9'd264,9'd70,9'd68,9'd133,9'd50,9'd5,9'd270,9'd266,9'd258,9'd128,9'd4,9'd261,9'd7,9'd313,9'd294,9'd56,9'd23,9'd301,9'd26,9'd57,9'd32,9'd288,9'd34,9'd330,9'd318,9'd374,9'd60,9'd101,9'd307,9'd19,9'd55,9'd47,9'd263,9'd11,9'd69,9'd257,9'd2,9'd266,9'd267,9'd128,9'd128,9'd20,9'd9,9'd86,9'd348,9'd54,9'd96,9'd64,9'd83,9'd302,9'd363,9'd296,9'd314,9'd355,9'd276,9'd73,9'd96,9'd20,9'd116,9'd28,9'd72,9'd42,9'd25,9'd11,9'd3,9'd4,9'd10,9'd4,9'd268,9'd25,9'd55,9'd101,9'd92,9'd56,9'd281,9'd282,9'd309,9'd286,9'd95,9'd337,9'd436,9'd504,9'd316,9'd118,9'd98,9'd298,9'd263,9'd299,9'd101,9'd48,9'd54,9'd30,9'd9,9'd259,9'd259,9'd11,9'd128,9'd76,9'd292,9'd109,9'd104,9'd336,9'd308,9'd56,9'd263,9'd30,9'd2,9'd304,9'd280,9'd426,9'd323,9'd328,9'd267,9'd233,9'd117,9'd77,9'd131,9'd56,9'd79,9'd73,9'd17,9'd257,9'd8,9'd267,9'd6,9'd58,9'd57,9'd114,9'd66,9'd78,9'd291,9'd85,9'd141,9'd149,9'd61,9'd104,9'd273,9'd128,9'd95,9'd187,9'd264,9'd57,9'd39,9'd101,9'd261,9'd78,9'd112,9'd76,9'd27,9'd258,9'd6,9'd26,9'd24,9'd25,9'd269,9'd112,9'd37,9'd305,9'd91,9'd55,9'd261,9'd105,9'd120,9'd46,9'd305,9'd285,9'd45,9'd128,9'd136,9'd1,9'd18,9'd68,9'd48,9'd95,9'd15,9'd40,9'd23,9'd8,9'd26,9'd22,9'd3,9'd17,9'd2,9'd23,9'd58,9'd358,9'd60,9'd34,9'd278,9'd31,9'd12,9'd296,9'd53,9'd46,9'd260,9'd327,9'd128,9'd13,9'd26,9'd51,9'd279,9'd107,9'd88,9'd35,9'd10,9'd3,9'd3,9'd4,9'd1,9'd287,9'd68,9'd18,9'd78,9'd271,9'd53,9'd276,9'd86,9'd275,9'd261,9'd29,9'd317,9'd102,9'd271,9'd303,9'd91,9'd62,9'd78,9'd111,9'd128,9'd78,9'd22,9'd52,9'd17,9'd260,9'd12,9'd7,9'd128,9'd331,9'd68,9'd82,9'd39,9'd119,9'd265,9'd85,9'd39,9'd286,9'd26,9'd298,9'd259,9'd310,9'd48,9'd37,9'd120,9'd359,9'd124,9'd17,9'd264,9'd149,9'd58,9'd128,9'd128,9'd266,9'd128,9'd5,9'd128,9'd275,9'd319,9'd56,9'd267,9'd341,9'd327,9'd336,9'd81,9'd305,9'd327,9'd19,9'd43,9'd38,9'd335,9'd268,9'd337,9'd92,9'd262,9'd78,9'd152,9'd75,9'd8,9'd272,9'd259,9'd258,9'd128,9'd257,9'd266,9'd8,9'd344,9'd358,9'd401,9'd436,9'd393,9'd389,9'd345,9'd285,9'd280,9'd10,9'd305,9'd305,9'd291,9'd274,9'd109,9'd35,9'd306,9'd32,9'd40,9'd261,9'd264,9'd128,9'd261,9'd128,9'd7,9'd1,9'd270,9'd8,9'd261,9'd6,9'd277,9'd286,9'd351,9'd399,9'd382,9'd475,9'd473,9'd419,9'd507,9'd509,9'd471,9'd389,9'd332,9'd297,9'd323,9'd268,9'd273,9'd2,9'd2,9'd6,9'd18,9'd257,9'd11,9'd264,9'd261,9'd4,9'd259,9'd4,9'd262,9'd268,9'd267,9'd322,9'd312,9'd330,9'd349,9'd293,9'd281,9'd347,9'd310,9'd305,9'd259,9'd294,9'd257,9'd261,9'd128,9'd264,9'd5,9'd3,9'd1,9'd1,9'd2,9'd258,9'd5,9'd7,9'd3,9'd128,9'd5,9'd128,9'd264,9'd259,9'd288,9'd292,9'd128,9'd4,9'd12,9'd261,9'd264,9'd265,9'd128,9'd266,9'd128,9'd128,9'd3,9'd128,9'd5,9'd258,9'd258,9'd5,9'd1,9'd3,9'd6,9'd260,9'd128,9'd258,9'd3,9'd260,9'd258,9'd1,9'd6,9'd11,9'd261,9'd128,9'd261,9'd4,9'd259,9'd258,9'd259,9'd128,9'd5,9'd266,9'd17,9'd262,9'd5,9'd264,9'd270,9'd128,9'd15,9'd6,9'd260,9'd259,9'd265,9'd128,9'd1,9'd5,9'd260,9'd1,9'd128,9'd260,9'd1,9'd264,9'd2,9'd6,9'd258,9'd2,9'd266,9'd261,9'd273,9'd128,9'd258,9'd128,9'd7,9'd261,9'd260,9'd128\""
      ]
     },
     "execution_count": 35,
     "metadata": {},
     "output_type": "execute_result"
    }
   ],
   "source": [
    "def weights_to_literals(w, precision=8):\n",
    "    w_normalized = w / np.abs(w).max()\n",
    "    w_quantized = (w_normalized * (2 ** precision - 1)).astype(int)\n",
    "    w_literals = map(lambda w: f'9\\'d{(-np.sign(w) + 1) * 2 ** (precision - 1) + np.abs(w)}', w_quantized)\n",
    "    w_bits = list(w_literals)[::-1]\n",
    "    \n",
    "    return ','.join(w_bits)\n",
    "\n",
    "weights_to_literals(w)"
   ]
  }
 ],
 "metadata": {
  "kernelspec": {
   "display_name": "Python 3 (ipykernel)",
   "language": "python",
   "name": "python3"
  },
  "language_info": {
   "codemirror_mode": {
    "name": "ipython",
    "version": 3
   },
   "file_extension": ".py",
   "mimetype": "text/x-python",
   "name": "python",
   "nbconvert_exporter": "python",
   "pygments_lexer": "ipython3",
   "version": "3.8.5"
  }
 },
 "nbformat": 4,
 "nbformat_minor": 5
}
